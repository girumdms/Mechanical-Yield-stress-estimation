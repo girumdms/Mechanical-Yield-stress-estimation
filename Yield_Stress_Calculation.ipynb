{
 "cells": [
  {
   "cell_type": "code",
   "execution_count": 3,
   "id": "9e14e56d",
   "metadata": {},
   "outputs": [],
   "source": [
    "import pandas as pd\n",
    "import numpy as np\n",
    "import seaborn as sns\n",
    "import matplotlib.pyplot as plt\n",
    "import scipy\n",
    "from scipy import stats"
   ]
  },
  {
   "cell_type": "code",
   "execution_count": 4,
   "id": "e5144ade",
   "metadata": {},
   "outputs": [],
   "source": [
    "df = pd.DataFrame({'Strain' :(['0.003','0.006','0.009','0.012','0.014','0.017','0.02','0.035','0.052','0.079','0.124','0.167','0.212','0.264','0.3']),'Stress(Mpa)':(['6.2946','12.5892','18.8838','25.1784','29.3787','35.6733','39.0078','52.4043','62.3493','66.7836','69.9543','70.317','69.7086','67.275','64.8414'])})"
   ]
  },
  {
   "cell_type": "code",
   "execution_count": 5,
   "id": "93b8fc1e",
   "metadata": {},
   "outputs": [],
   "source": [
    "df = df.astype(float)"
   ]
  },
  {
   "cell_type": "code",
   "execution_count": 6,
   "id": "da205250",
   "metadata": {},
   "outputs": [
    {
     "data": {
      "text/html": [
       "<div>\n",
       "<style scoped>\n",
       "    .dataframe tbody tr th:only-of-type {\n",
       "        vertical-align: middle;\n",
       "    }\n",
       "\n",
       "    .dataframe tbody tr th {\n",
       "        vertical-align: top;\n",
       "    }\n",
       "\n",
       "    .dataframe thead th {\n",
       "        text-align: right;\n",
       "    }\n",
       "</style>\n",
       "<table border=\"1\" class=\"dataframe\">\n",
       "  <thead>\n",
       "    <tr style=\"text-align: right;\">\n",
       "      <th></th>\n",
       "      <th>Strain</th>\n",
       "      <th>Stress(Mpa)</th>\n",
       "    </tr>\n",
       "  </thead>\n",
       "  <tbody>\n",
       "    <tr>\n",
       "      <th>0</th>\n",
       "      <td>0.003</td>\n",
       "      <td>6.2946</td>\n",
       "    </tr>\n",
       "    <tr>\n",
       "      <th>1</th>\n",
       "      <td>0.006</td>\n",
       "      <td>12.5892</td>\n",
       "    </tr>\n",
       "    <tr>\n",
       "      <th>2</th>\n",
       "      <td>0.009</td>\n",
       "      <td>18.8838</td>\n",
       "    </tr>\n",
       "    <tr>\n",
       "      <th>3</th>\n",
       "      <td>0.012</td>\n",
       "      <td>25.1784</td>\n",
       "    </tr>\n",
       "    <tr>\n",
       "      <th>4</th>\n",
       "      <td>0.014</td>\n",
       "      <td>29.3787</td>\n",
       "    </tr>\n",
       "    <tr>\n",
       "      <th>5</th>\n",
       "      <td>0.017</td>\n",
       "      <td>35.6733</td>\n",
       "    </tr>\n",
       "    <tr>\n",
       "      <th>6</th>\n",
       "      <td>0.020</td>\n",
       "      <td>39.0078</td>\n",
       "    </tr>\n",
       "    <tr>\n",
       "      <th>7</th>\n",
       "      <td>0.035</td>\n",
       "      <td>52.4043</td>\n",
       "    </tr>\n",
       "    <tr>\n",
       "      <th>8</th>\n",
       "      <td>0.052</td>\n",
       "      <td>62.3493</td>\n",
       "    </tr>\n",
       "    <tr>\n",
       "      <th>9</th>\n",
       "      <td>0.079</td>\n",
       "      <td>66.7836</td>\n",
       "    </tr>\n",
       "    <tr>\n",
       "      <th>10</th>\n",
       "      <td>0.124</td>\n",
       "      <td>69.9543</td>\n",
       "    </tr>\n",
       "    <tr>\n",
       "      <th>11</th>\n",
       "      <td>0.167</td>\n",
       "      <td>70.3170</td>\n",
       "    </tr>\n",
       "    <tr>\n",
       "      <th>12</th>\n",
       "      <td>0.212</td>\n",
       "      <td>69.7086</td>\n",
       "    </tr>\n",
       "    <tr>\n",
       "      <th>13</th>\n",
       "      <td>0.264</td>\n",
       "      <td>67.2750</td>\n",
       "    </tr>\n",
       "    <tr>\n",
       "      <th>14</th>\n",
       "      <td>0.300</td>\n",
       "      <td>64.8414</td>\n",
       "    </tr>\n",
       "  </tbody>\n",
       "</table>\n",
       "</div>"
      ],
      "text/plain": [
       "    Strain  Stress(Mpa)\n",
       "0    0.003       6.2946\n",
       "1    0.006      12.5892\n",
       "2    0.009      18.8838\n",
       "3    0.012      25.1784\n",
       "4    0.014      29.3787\n",
       "5    0.017      35.6733\n",
       "6    0.020      39.0078\n",
       "7    0.035      52.4043\n",
       "8    0.052      62.3493\n",
       "9    0.079      66.7836\n",
       "10   0.124      69.9543\n",
       "11   0.167      70.3170\n",
       "12   0.212      69.7086\n",
       "13   0.264      67.2750\n",
       "14   0.300      64.8414"
      ]
     },
     "execution_count": 6,
     "metadata": {},
     "output_type": "execute_result"
    }
   ],
   "source": [
    "df"
   ]
  },
  {
   "cell_type": "code",
   "execution_count": 7,
   "id": "7ba83c79",
   "metadata": {},
   "outputs": [
    {
     "data": {
      "text/plain": [
       "Strain         float64\n",
       "Stress(Mpa)    float64\n",
       "dtype: object"
      ]
     },
     "execution_count": 7,
     "metadata": {},
     "output_type": "execute_result"
    }
   ],
   "source": [
    "df.dtypes"
   ]
  },
  {
   "cell_type": "code",
   "execution_count": 8,
   "id": "52c27fec",
   "metadata": {},
   "outputs": [
    {
     "data": {
      "image/png": "[encoded data removed]",
      "text/plain": [
       "<Figure size 720x360 with 1 Axes>"
      ]
     },
     "metadata": {
      "needs_background": "light"
     },
     "output_type": "display_data"
    }
   ],
   "source": [
    "fig, ax=plt.subplots(figsize=(10,5))\n",
    "sns.lineplot(data=df, x='Strain', y='Stress(Mpa)',ax=ax)\n",
    "ax.set_title('Normal Stress Strain Curve')\n",
    "plt.show()"
   ]
  },
  {
   "cell_type": "code",
   "execution_count": 9,
   "id": "b2e9f78c",
   "metadata": {},
   "outputs": [],
   "source": [
    "dy = df[df['Stress(Mpa)']<= 38]"
   ]
  },
  {
   "cell_type": "code",
   "execution_count": 10,
   "id": "f33966bf",
   "metadata": {},
   "outputs": [
    {
     "data": {
      "text/html": [
       "<div>\n",
       "<style scoped>\n",
       "    .dataframe tbody tr th:only-of-type {\n",
       "        vertical-align: middle;\n",
       "    }\n",
       "\n",
       "    .dataframe tbody tr th {\n",
       "        vertical-align: top;\n",
       "    }\n",
       "\n",
       "    .dataframe thead th {\n",
       "        text-align: right;\n",
       "    }\n",
       "</style>\n",
       "<table border=\"1\" class=\"dataframe\">\n",
       "  <thead>\n",
       "    <tr style=\"text-align: right;\">\n",
       "      <th></th>\n",
       "      <th>Strain</th>\n",
       "      <th>Stress(Mpa)</th>\n",
       "    </tr>\n",
       "  </thead>\n",
       "  <tbody>\n",
       "    <tr>\n",
       "      <th>0</th>\n",
       "      <td>0.003</td>\n",
       "      <td>6.2946</td>\n",
       "    </tr>\n",
       "    <tr>\n",
       "      <th>1</th>\n",
       "      <td>0.006</td>\n",
       "      <td>12.5892</td>\n",
       "    </tr>\n",
       "    <tr>\n",
       "      <th>2</th>\n",
       "      <td>0.009</td>\n",
       "      <td>18.8838</td>\n",
       "    </tr>\n",
       "    <tr>\n",
       "      <th>3</th>\n",
       "      <td>0.012</td>\n",
       "      <td>25.1784</td>\n",
       "    </tr>\n",
       "    <tr>\n",
       "      <th>4</th>\n",
       "      <td>0.014</td>\n",
       "      <td>29.3787</td>\n",
       "    </tr>\n",
       "  </tbody>\n",
       "</table>\n",
       "</div>"
      ],
      "text/plain": [
       "   Strain  Stress(Mpa)\n",
       "0   0.003       6.2946\n",
       "1   0.006      12.5892\n",
       "2   0.009      18.8838\n",
       "3   0.012      25.1784\n",
       "4   0.014      29.3787"
      ]
     },
     "execution_count": 10,
     "metadata": {},
     "output_type": "execute_result"
    }
   ],
   "source": [
    "dy.head()"
   ]
  },
  {
   "cell_type": "code",
   "execution_count": 11,
   "id": "03af9ebc",
   "metadata": {},
   "outputs": [],
   "source": [
    "xs = np.array(dy['Strain'])"
   ]
  },
  {
   "cell_type": "code",
   "execution_count": 12,
   "id": "09becca9",
   "metadata": {},
   "outputs": [],
   "source": [
    "ys = np.array(dy['Stress(Mpa)'])"
   ]
  },
  {
   "cell_type": "code",
   "execution_count": null,
   "id": "abc7af81",
   "metadata": {},
   "outputs": [],
   "source": []
  },
  {
   "cell_type": "code",
   "execution_count": 13,
   "id": "8daa5e66",
   "metadata": {},
   "outputs": [],
   "source": [
    "xf = np.array(df['Strain'])"
   ]
  },
  {
   "cell_type": "code",
   "execution_count": 14,
   "id": "bf0247d4",
   "metadata": {},
   "outputs": [],
   "source": [
    "yf = np.array(df['Stress(Mpa)'])"
   ]
  },
  {
   "cell_type": "markdown",
   "id": "df132df4",
   "metadata": {},
   "source": [
    "# Best fit of the scattered data below given Mpa value in dy"
   ]
  },
  {
   "cell_type": "code",
   "execution_count": 15,
   "id": "3d141e6b",
   "metadata": {},
   "outputs": [],
   "source": [
    "res = stats.linregress(xs, ys)"
   ]
  },
  {
   "cell_type": "code",
   "execution_count": 16,
   "id": "1f5259e5",
   "metadata": {},
   "outputs": [
    {
     "data": {
      "text/plain": [
       "LinregressResult(slope=2098.508529048207, intercept=-0.001836711990108597, rvalue=0.9999999937305832, pvalue=5.895837970895556e-17, stderr=0.11749227522898589, intercept_stderr=0.001317974976213841)"
      ]
     },
     "execution_count": 16,
     "metadata": {},
     "output_type": "execute_result"
    }
   ],
   "source": [
    "res"
   ]
  },
  {
   "cell_type": "code",
   "execution_count": 17,
   "id": "32078c5b",
   "metadata": {},
   "outputs": [],
   "source": [
    "df['0.2% Offset Strain'] = (df['Strain']+0.002)"
   ]
  },
  {
   "cell_type": "code",
   "execution_count": 18,
   "id": "b610b2ca",
   "metadata": {},
   "outputs": [],
   "source": [
    "df['0.2% Offset Stress']= (df['Strain'])*res.slope"
   ]
  },
  {
   "cell_type": "code",
   "execution_count": 19,
   "id": "6b194159",
   "metadata": {},
   "outputs": [],
   "source": [
    "df_O = df[df['0.2% Offset Stress']<=60]"
   ]
  },
  {
   "cell_type": "code",
   "execution_count": 20,
   "id": "e789972d",
   "metadata": {},
   "outputs": [
    {
     "data": {
      "text/html": [
       "<div>\n",
       "<style scoped>\n",
       "    .dataframe tbody tr th:only-of-type {\n",
       "        vertical-align: middle;\n",
       "    }\n",
       "\n",
       "    .dataframe tbody tr th {\n",
       "        vertical-align: top;\n",
       "    }\n",
       "\n",
       "    .dataframe thead th {\n",
       "        text-align: right;\n",
       "    }\n",
       "</style>\n",
       "<table border=\"1\" class=\"dataframe\">\n",
       "  <thead>\n",
       "    <tr style=\"text-align: right;\">\n",
       "      <th></th>\n",
       "      <th>Strain</th>\n",
       "      <th>Stress(Mpa)</th>\n",
       "      <th>0.2% Offset Strain</th>\n",
       "      <th>0.2% Offset Stress</th>\n",
       "    </tr>\n",
       "  </thead>\n",
       "  <tbody>\n",
       "    <tr>\n",
       "      <th>0</th>\n",
       "      <td>0.003</td>\n",
       "      <td>6.2946</td>\n",
       "      <td>0.005</td>\n",
       "      <td>6.295526</td>\n",
       "    </tr>\n",
       "    <tr>\n",
       "      <th>1</th>\n",
       "      <td>0.006</td>\n",
       "      <td>12.5892</td>\n",
       "      <td>0.008</td>\n",
       "      <td>12.591051</td>\n",
       "    </tr>\n",
       "    <tr>\n",
       "      <th>2</th>\n",
       "      <td>0.009</td>\n",
       "      <td>18.8838</td>\n",
       "      <td>0.011</td>\n",
       "      <td>18.886577</td>\n",
       "    </tr>\n",
       "    <tr>\n",
       "      <th>3</th>\n",
       "      <td>0.012</td>\n",
       "      <td>25.1784</td>\n",
       "      <td>0.014</td>\n",
       "      <td>25.182102</td>\n",
       "    </tr>\n",
       "    <tr>\n",
       "      <th>4</th>\n",
       "      <td>0.014</td>\n",
       "      <td>29.3787</td>\n",
       "      <td>0.016</td>\n",
       "      <td>29.379119</td>\n",
       "    </tr>\n",
       "    <tr>\n",
       "      <th>5</th>\n",
       "      <td>0.017</td>\n",
       "      <td>35.6733</td>\n",
       "      <td>0.019</td>\n",
       "      <td>35.674645</td>\n",
       "    </tr>\n",
       "    <tr>\n",
       "      <th>6</th>\n",
       "      <td>0.020</td>\n",
       "      <td>39.0078</td>\n",
       "      <td>0.022</td>\n",
       "      <td>41.970171</td>\n",
       "    </tr>\n",
       "  </tbody>\n",
       "</table>\n",
       "</div>"
      ],
      "text/plain": [
       "   Strain  Stress(Mpa)  0.2% Offset Strain  0.2% Offset Stress\n",
       "0   0.003       6.2946               0.005            6.295526\n",
       "1   0.006      12.5892               0.008           12.591051\n",
       "2   0.009      18.8838               0.011           18.886577\n",
       "3   0.012      25.1784               0.014           25.182102\n",
       "4   0.014      29.3787               0.016           29.379119\n",
       "5   0.017      35.6733               0.019           35.674645\n",
       "6   0.020      39.0078               0.022           41.970171"
      ]
     },
     "execution_count": 20,
     "metadata": {},
     "output_type": "execute_result"
    }
   ],
   "source": [
    "df_O"
   ]
  },
  {
   "cell_type": "code",
   "execution_count": 21,
   "id": "da6484ee",
   "metadata": {},
   "outputs": [],
   "source": [
    "x_off = df_O['0.2% Offset Strain']"
   ]
  },
  {
   "cell_type": "code",
   "execution_count": 22,
   "id": "3c39b962",
   "metadata": {},
   "outputs": [],
   "source": [
    "y_off = df_O['0.2% Offset Stress']"
   ]
  },
  {
   "cell_type": "code",
   "execution_count": 23,
   "id": "9485bf34",
   "metadata": {},
   "outputs": [],
   "source": [
    "res_off = stats.linregress(x_off, y_off)"
   ]
  },
  {
   "cell_type": "code",
   "execution_count": 24,
   "id": "898dfe2a",
   "metadata": {},
   "outputs": [
    {
     "data": {
      "text/plain": [
       "LinregressResult(slope=2098.508529048207, intercept=-4.19701705809641, rvalue=1.0, pvalue=1.9206748078018256e-50, stderr=0.0, intercept_stderr=0.0)"
      ]
     },
     "execution_count": 24,
     "metadata": {},
     "output_type": "execute_result"
    }
   ],
   "source": [
    "res_off"
   ]
  },
  {
   "cell_type": "code",
   "execution_count": 25,
   "id": "461fba2d",
   "metadata": {
    "scrolled": true
   },
   "outputs": [
    {
     "data": {
      "text/html": [
       "<div>\n",
       "<style scoped>\n",
       "    .dataframe tbody tr th:only-of-type {\n",
       "        vertical-align: middle;\n",
       "    }\n",
       "\n",
       "    .dataframe tbody tr th {\n",
       "        vertical-align: top;\n",
       "    }\n",
       "\n",
       "    .dataframe thead th {\n",
       "        text-align: right;\n",
       "    }\n",
       "</style>\n",
       "<table border=\"1\" class=\"dataframe\">\n",
       "  <thead>\n",
       "    <tr style=\"text-align: right;\">\n",
       "      <th></th>\n",
       "      <th>Strain</th>\n",
       "      <th>Stress(Mpa)</th>\n",
       "      <th>0.2% Offset Strain</th>\n",
       "      <th>0.2% Offset Stress</th>\n",
       "    </tr>\n",
       "  </thead>\n",
       "  <tbody>\n",
       "    <tr>\n",
       "      <th>0</th>\n",
       "      <td>0.003</td>\n",
       "      <td>6.2946</td>\n",
       "      <td>0.005</td>\n",
       "      <td>6.295526</td>\n",
       "    </tr>\n",
       "    <tr>\n",
       "      <th>1</th>\n",
       "      <td>0.006</td>\n",
       "      <td>12.5892</td>\n",
       "      <td>0.008</td>\n",
       "      <td>12.591051</td>\n",
       "    </tr>\n",
       "    <tr>\n",
       "      <th>2</th>\n",
       "      <td>0.009</td>\n",
       "      <td>18.8838</td>\n",
       "      <td>0.011</td>\n",
       "      <td>18.886577</td>\n",
       "    </tr>\n",
       "    <tr>\n",
       "      <th>3</th>\n",
       "      <td>0.012</td>\n",
       "      <td>25.1784</td>\n",
       "      <td>0.014</td>\n",
       "      <td>25.182102</td>\n",
       "    </tr>\n",
       "    <tr>\n",
       "      <th>4</th>\n",
       "      <td>0.014</td>\n",
       "      <td>29.3787</td>\n",
       "      <td>0.016</td>\n",
       "      <td>29.379119</td>\n",
       "    </tr>\n",
       "  </tbody>\n",
       "</table>\n",
       "</div>"
      ],
      "text/plain": [
       "   Strain  Stress(Mpa)  0.2% Offset Strain  0.2% Offset Stress\n",
       "0   0.003       6.2946               0.005            6.295526\n",
       "1   0.006      12.5892               0.008           12.591051\n",
       "2   0.009      18.8838               0.011           18.886577\n",
       "3   0.012      25.1784               0.014           25.182102\n",
       "4   0.014      29.3787               0.016           29.379119"
      ]
     },
     "execution_count": 25,
     "metadata": {},
     "output_type": "execute_result"
    }
   ],
   "source": [
    "df.head()"
   ]
  },
  {
   "cell_type": "code",
   "execution_count": 26,
   "id": "c5ec1bc6",
   "metadata": {},
   "outputs": [
    {
     "data": {
      "text/plain": [
       "[<matplotlib.lines.Line2D at 0x7ff22a3e0be0>]"
      ]
     },
     "execution_count": 26,
     "metadata": {},
     "output_type": "execute_result"
    },
    {
     "data": {
      "image/png": "[encoded data removed]",
      "text/plain": [
       "<Figure size 864x432 with 1 Axes>"
      ]
     },
     "metadata": {
      "needs_background": "light"
     },
     "output_type": "display_data"
    }
   ],
   "source": [
    "fig, ax = plt.subplots(figsize=(12,6))\n",
    "\n",
    "plt.plot(df['Strain'], df['Stress(Mpa)'])\n",
    "# Scattered ploting of the original data\n",
    "plt.scatter(df['Strain'], df['Stress(Mpa)'], alpha =0.4, color='green', s=50)\n",
    "\n",
    "# best fit using scipy stats of regression method\n",
    "plt.plot(dy['Strain'], (res.slope)*(xs)+ res.intercept, 'r', label='bestfit line')\n",
    "ax.set_title('Normal Stress Strain Curve')\n",
    "\n",
    "plt.plot(df_O['0.2% Offset Strain'], df_O['0.2% Offset Stress'])"
   ]
  },
  {
   "cell_type": "code",
   "execution_count": 27,
   "id": "8d6bde03",
   "metadata": {},
   "outputs": [],
   "source": [
    "from bokeh.plotting import figure, output_file, show\n",
    "from bokeh.io import output_notebook"
   ]
  },
  {
   "cell_type": "code",
   "execution_count": 28,
   "id": "62536519",
   "metadata": {},
   "outputs": [],
   "source": [
    "p1 = figure(title='Yield Stress Determination', width =800, plot_height= 500)\n",
    "\n",
    "p1.grid.grid_line_alpha = 1\n",
    "p1.xaxis.axis_label = 'Strain in mm'\n",
    "p1.yaxis.axis_label = 'Stress In Mpa'\n",
    "\n",
    "p1.line(df['Strain'], df['Stress(Mpa)'], color='blue', legend_label='laboratory test result')\n",
    "p1.scatter(df['Strain'], df['Stress(Mpa)'], size=5, alpha =0.80, fill_color= 'yellow', line_color='black')\n",
    "\n",
    "\n",
    "\n",
    "p1.line(dy['Strain'], (res.slope)*(xs)+ res.intercept, color='red', legend_label ='Best Fit Curve')\n",
    "p1.line(df_O['0.2% Offset Strain'], df_O['0.2% Offset Stress'], color='green', legend_label='0.2% OffSet Curve')\n",
    "p1.legend.location ='bottom_right'\n",
    "show(p1)"
   ]
  },
  {
   "cell_type": "code",
   "execution_count": 264,
   "id": "414b7ba2",
   "metadata": {},
   "outputs": [
    {
     "data": {
      "image/png": "[encoded data removed]",
      "text/plain": [
       "<Figure size 720x360 with 1 Axes>"
      ]
     },
     "metadata": {
      "needs_background": "light"
     },
     "output_type": "display_data"
    }
   ],
   "source": [
    "fig, ax=plt.subplots(figsize=(10,5))\n",
    "sns.pointplot(data=df, x='Strain', y='Stress(Mpa)',ax=ax)\n",
    "ax.set_title('Normal Stress Strain Curve')\n",
    "plt.show()"
   ]
  },
  {
   "cell_type": "code",
   "execution_count": null,
   "id": "884e8a01",
   "metadata": {},
   "outputs": [],
   "source": []
  },
  {
   "cell_type": "code",
   "execution_count": null,
   "id": "efbf14a5",
   "metadata": {},
   "outputs": [],
   "source": []
  }
 ],
 "metadata": {
  "kernelspec": {
   "display_name": "Python 3",
   "language": "python",
   "name": "python3"
  },
  "language_info": {
   "codemirror_mode": {
    "name": "ipython",
    "version": 3
   },
   "file_extension": ".py",
   "mimetype": "text/x-python",
   "name": "python",
   "nbconvert_exporter": "python",
   "pygments_lexer": "ipython3",
   "version": "3.8.8"
  }
 },
 "nbformat": 4,
 "nbformat_minor": 5
}
